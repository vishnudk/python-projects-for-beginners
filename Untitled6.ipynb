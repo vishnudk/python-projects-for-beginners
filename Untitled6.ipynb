{
  "nbformat": 4,
  "nbformat_minor": 0,
  "metadata": {
    "colab": {
      "name": "Untitled6.ipynb",
      "provenance": [],
      "collapsed_sections": [],
      "include_colab_link": true
    },
    "kernelspec": {
      "name": "python3",
      "display_name": "Python 3"
    }
  },
  "cells": [
    {
      "cell_type": "markdown",
      "metadata": {
        "id": "view-in-github",
        "colab_type": "text"
      },
      "source": [
        "<a href=\"https://colab.research.google.com/github/vishnudk/python-projects-for-beginners/blob/master/Untitled6.ipynb\" target=\"_parent\"><img src=\"https://colab.research.google.com/assets/colab-badge.svg\" alt=\"Open In Colab\"/></a>"
      ]
    },
    {
      "cell_type": "code",
      "metadata": {
        "id": "VGnF9XWn0a6N",
        "colab_type": "code",
        "outputId": "2918ebf5-86fb-47f7-e19e-c6909a3c4988",
        "colab": {
          "base_uri": "https://localhost:8080/",
          "height": 625
        }
      },
      "source": [
        "import pandas as pd\n",
        "import numpy as np\n",
        "labels=['a','b','c']\n",
        "my_list=[1,2,3]\n",
        "ar=np.array([1,2,3])\n",
        "print(ar)\n",
        "d={'a':1,'b':2,'c':3}\n",
        "print(pd.Series(data=my_list)) #using list\n",
        "print(\"        \")\n",
        "print(pd.Series(ar))#using numpy array\n",
        "print(\" \")\n",
        "print(pd.Series(data=my_list,index=labels))\n",
        "print(\" \")\n",
        "print(pd.Series(my_list,labels))\n",
        "print(\" \")\n",
        "print(pd.Series(ar))\n",
        "print(\" \")\n",
        "print(pd.Series(ar,labels))#using numpy array\n",
        "print(\" \")\n",
        "print(pd.Series(d))#using dictionary"
      ],
      "execution_count": 0,
      "outputs": [
        {
          "output_type": "stream",
          "text": [
            "[1 2 3]\n",
            "0    1\n",
            "1    2\n",
            "2    3\n",
            "dtype: int64\n",
            "        \n",
            "0    1\n",
            "1    2\n",
            "2    3\n",
            "dtype: int64\n",
            " \n",
            "a    1\n",
            "b    2\n",
            "c    3\n",
            "dtype: int64\n",
            " \n",
            "a    1\n",
            "b    2\n",
            "c    3\n",
            "dtype: int64\n",
            " \n",
            "0    1\n",
            "1    2\n",
            "2    3\n",
            "dtype: int64\n",
            " \n",
            "a    1\n",
            "b    2\n",
            "c    3\n",
            "dtype: int64\n",
            " \n",
            "a    1\n",
            "b    2\n",
            "c    3\n",
            "dtype: int64\n"
          ],
          "name": "stdout"
        }
      ]
    },
    {
      "cell_type": "markdown",
      "metadata": {
        "id": "vvLmg_kA32RN",
        "colab_type": "text"
      },
      "source": [
        "making data frame"
      ]
    },
    {
      "cell_type": "code",
      "metadata": {
        "id": "GfsDT48I399l",
        "colab_type": "code",
        "outputId": "e0ac5fd2-6fb5-4ab9-97fd-528accde738b",
        "colab": {
          "base_uri": "https://localhost:8080/",
          "height": 121
        }
      },
      "source": [
        "ser1=pd.Series([1,2,3,4],index=['usa','germany','ussr','japan'])\n",
        "print(ser1)\n",
        "ser2=pd.Series([1,2,3,4],index=['usa','germany','ussr','japan'])\n",
        "ser2\n",
        "ser2['germany']\n"
      ],
      "execution_count": 0,
      "outputs": [
        {
          "output_type": "stream",
          "text": [
            "usa        1\n",
            "germany    2\n",
            "ussr       3\n",
            "japan      4\n",
            "dtype: int64\n"
          ],
          "name": "stdout"
        },
        {
          "output_type": "execute_result",
          "data": {
            "text/plain": [
              "2"
            ]
          },
          "metadata": {
            "tags": []
          },
          "execution_count": 14
        }
      ]
    },
    {
      "cell_type": "code",
      "metadata": {
        "id": "fpnsfMIY6QUc",
        "colab_type": "code",
        "outputId": "542183f2-d182-4425-86ea-0e7926e2b215",
        "colab": {
          "base_uri": "https://localhost:8080/",
          "height": 331
        }
      },
      "source": [
        "df=pd.DataFrame({'Company':['goog','fb','hp',np.nan],'Sales':[np.nan,2000,3000,4000]})\n",
        "print(df.groupby('Company'))\n",
        "#print(df.describe())\n",
        "print(df.isnull())\n",
        "print(df.dropna())\n",
        "df.fillna('fill')\n",
        "#df.describe().transpose()['goog']"
      ],
      "execution_count": 0,
      "outputs": [
        {
          "output_type": "stream",
          "text": [
            "<pandas.core.groupby.generic.DataFrameGroupBy object at 0x7f5e269e08d0>\n",
            "   Company  Sales\n",
            "0    False   True\n",
            "1    False  False\n",
            "2    False  False\n",
            "3     True  False\n",
            "  Company   Sales\n",
            "1      fb  2000.0\n",
            "2      hp  3000.0\n"
          ],
          "name": "stdout"
        },
        {
          "output_type": "execute_result",
          "data": {
            "text/html": [
              "<div>\n",
              "<style scoped>\n",
              "    .dataframe tbody tr th:only-of-type {\n",
              "        vertical-align: middle;\n",
              "    }\n",
              "\n",
              "    .dataframe tbody tr th {\n",
              "        vertical-align: top;\n",
              "    }\n",
              "\n",
              "    .dataframe thead th {\n",
              "        text-align: right;\n",
              "    }\n",
              "</style>\n",
              "<table border=\"1\" class=\"dataframe\">\n",
              "  <thead>\n",
              "    <tr style=\"text-align: right;\">\n",
              "      <th></th>\n",
              "      <th>Company</th>\n",
              "      <th>Sales</th>\n",
              "    </tr>\n",
              "  </thead>\n",
              "  <tbody>\n",
              "    <tr>\n",
              "      <th>0</th>\n",
              "      <td>goog</td>\n",
              "      <td>fill</td>\n",
              "    </tr>\n",
              "    <tr>\n",
              "      <th>1</th>\n",
              "      <td>fb</td>\n",
              "      <td>2000</td>\n",
              "    </tr>\n",
              "    <tr>\n",
              "      <th>2</th>\n",
              "      <td>hp</td>\n",
              "      <td>3000</td>\n",
              "    </tr>\n",
              "    <tr>\n",
              "      <th>3</th>\n",
              "      <td>fill</td>\n",
              "      <td>4000</td>\n",
              "    </tr>\n",
              "  </tbody>\n",
              "</table>\n",
              "</div>"
            ],
            "text/plain": [
              "  Company Sales\n",
              "0    goog  fill\n",
              "1      fb  2000\n",
              "2      hp  3000\n",
              "3    fill  4000"
            ]
          },
          "metadata": {
            "tags": []
          },
          "execution_count": 64
        }
      ]
    },
    {
      "cell_type": "code",
      "metadata": {
        "id": "9NN1HkSc9zNo",
        "colab_type": "code",
        "colab": {}
      },
      "source": [
        "pd.concat([df1,df2,df3])\n",
        "pd.concat([df1,df2,df3,df4])"
      ],
      "execution_count": 0,
      "outputs": []
    },
    {
      "cell_type": "markdown",
      "metadata": {
        "id": "Kd-bNfMEAPFQ",
        "colab_type": "text"
      },
      "source": [
        "common operations in pandas"
      ]
    },
    {
      "cell_type": "code",
      "metadata": {
        "id": "a-ao0CqV_FGC",
        "colab_type": "code",
        "outputId": "278895d1-7dfb-4ccf-d8cb-7ea39620fa8d",
        "colab": {
          "base_uri": "https://localhost:8080/",
          "height": 382
        }
      },
      "source": [
        "left=pd.DataFrame({'A':[1,2,3,4],'B':[5,6,7,8],'C':['abc','cdf','ghj','dfg']})\n",
        "print(left.head())\n",
        "print(left.describe())\n",
        "#print(left.describe().transpose()['abc'])\n",
        "print(left['A'].unique())\n",
        "print(left['A'].nunique())\n",
        "#custom funtions\n",
        "def time2x(s):\n",
        "  return 2*s\n",
        "del left['A']\n",
        "print(left.head())"
      ],
      "execution_count": 0,
      "outputs": [
        {
          "output_type": "stream",
          "text": [
            "   A  B    C\n",
            "0  1  5  abc\n",
            "1  2  6  cdf\n",
            "2  3  7  ghj\n",
            "3  4  8  dfg\n",
            "              A         B\n",
            "count  4.000000  4.000000\n",
            "mean   2.500000  6.500000\n",
            "std    1.290994  1.290994\n",
            "min    1.000000  5.000000\n",
            "25%    1.750000  5.750000\n",
            "50%    2.500000  6.500000\n",
            "75%    3.250000  7.250000\n",
            "max    4.000000  8.000000\n",
            "[1 2 3 4]\n",
            "4\n",
            "   B    C\n",
            "0  5  abc\n",
            "1  6  cdf\n",
            "2  7  ghj\n",
            "3  8  dfg\n"
          ],
          "name": "stdout"
        }
      ]
    },
    {
      "cell_type": "markdown",
      "metadata": {
        "id": "yBVWg6Ps32UT",
        "colab_type": "text"
      },
      "source": [
        "pandas can be used to merge and join diffrent dataframe"
      ]
    }
  ]
}