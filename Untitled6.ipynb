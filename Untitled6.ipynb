{
  "nbformat": 4,
  "nbformat_minor": 0,
  "metadata": {
    "colab": {
      "name": "Untitled6.ipynb",
      "provenance": [],
      "collapsed_sections": [],
      "include_colab_link": true
    },
    "kernelspec": {
      "name": "python3",
      "display_name": "Python 3"
    }
  },
  "cells": [
    {
      "cell_type": "markdown",
      "metadata": {
        "id": "view-in-github",
        "colab_type": "text"
      },
      "source": [
        "<a href=\"https://colab.research.google.com/github/vishnudk/python-projects-for-beginners/blob/master/Untitled6.ipynb\" target=\"_parent\"><img src=\"https://colab.research.google.com/assets/colab-badge.svg\" alt=\"Open In Colab\"/></a>"
      ]
    },
    {
      "cell_type": "code",
      "metadata": {
        "id": "VGnF9XWn0a6N",
        "colab_type": "code",
        "colab": {
          "base_uri": "https://localhost:8080/",
          "height": 607
        },
        "outputId": "4a58b051-0fb2-48e9-f9af-487326843dd4"
      },
      "source": [
        "import pandas as pd\n",
        "import numpy as np\n",
        "labels=['a','b','c']\n",
        "my_list=[1,2,3]\n",
        "ar=np.array([1,2,3])\n",
        "d={'a':1,'b':2,'c':3}\n",
        "print(pd.Series(data=my_list))\n",
        "print(\"        \")\n",
        "print(pd.Series(ar))\n",
        "print(\" \")\n",
        "print(pd.Series(data=my_list,index=labels))\n",
        "print(\" \")\n",
        "print(pd.Series(my_list,labels))\n",
        "print(\" \")\n",
        "print(pd.Series(ar))\n",
        "print(\" \")\n",
        "print(pd.Series(ar,labels))\n",
        "print(\" \")\n",
        "print(pd.Series(d))"
      ],
      "execution_count": 8,
      "outputs": [
        {
          "output_type": "stream",
          "text": [
            "0    1\n",
            "1    2\n",
            "2    3\n",
            "dtype: int64\n",
            "        \n",
            "0    1\n",
            "1    2\n",
            "2    3\n",
            "dtype: int64\n",
            " \n",
            "a    1\n",
            "b    2\n",
            "c    3\n",
            "dtype: int64\n",
            " \n",
            "a    1\n",
            "b    2\n",
            "c    3\n",
            "dtype: int64\n",
            " \n",
            "0    1\n",
            "1    2\n",
            "2    3\n",
            "dtype: int64\n",
            " \n",
            "a    1\n",
            "b    2\n",
            "c    3\n",
            "dtype: int64\n",
            " \n",
            "a    1\n",
            "b    2\n",
            "c    3\n",
            "dtype: int64\n"
          ],
          "name": "stdout"
        }
      ]
    }
  ]
}